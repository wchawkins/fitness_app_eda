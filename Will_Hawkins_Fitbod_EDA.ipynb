{
 "cells": [
  {
   "cell_type": "code",
   "execution_count": 3,
   "metadata": {},
   "outputs": [],
   "source": [
    "import os\n",
    "import pandas as pd\n",
    "import numpy as np\n",
    "import matplotlib.pyplot as plt\n",
    "import seaborn as sns\n",
    "import matplotlib.ticker as mtick\n",
    "from sklearn import linear_model"
   ]
  },
  {
   "cell_type": "code",
   "execution_count": 14,
   "metadata": {},
   "outputs": [],
   "source": [
    "data = pd.read_csv('fitbod_WHAWKINS_20191029-143839.csv')"
   ]
  },
  {
   "cell_type": "code",
   "execution_count": 15,
   "metadata": {
    "scrolled": true
   },
   "outputs": [
    {
     "data": {
      "text/html": [
       "<div>\n",
       "<style scoped>\n",
       "    .dataframe tbody tr th:only-of-type {\n",
       "        vertical-align: middle;\n",
       "    }\n",
       "\n",
       "    .dataframe tbody tr th {\n",
       "        vertical-align: top;\n",
       "    }\n",
       "\n",
       "    .dataframe thead th {\n",
       "        text-align: right;\n",
       "    }\n",
       "</style>\n",
       "<table border=\"1\" class=\"dataframe\">\n",
       "  <thead>\n",
       "    <tr style=\"text-align: right;\">\n",
       "      <th></th>\n",
       "      <th>singleSetId</th>\n",
       "      <th>weight</th>\n",
       "      <th>reps</th>\n",
       "      <th>distance</th>\n",
       "      <th>duration</th>\n",
       "      <th>elevationGain</th>\n",
       "      <th>setNumber</th>\n",
       "      <th>exerciseSetParseId</th>\n",
       "      <th>exerciseName</th>\n",
       "      <th>workoutId</th>\n",
       "      <th>workoutDate</th>\n",
       "      <th>fake_user_id</th>\n",
       "    </tr>\n",
       "  </thead>\n",
       "  <tbody>\n",
       "    <tr>\n",
       "      <th>0</th>\n",
       "      <td>z83zJRBfSp</td>\n",
       "      <td>125.0</td>\n",
       "      <td>8.0</td>\n",
       "      <td>NaN</td>\n",
       "      <td>NaN</td>\n",
       "      <td>NaN</td>\n",
       "      <td>3</td>\n",
       "      <td>QfAaTjZ3v6</td>\n",
       "      <td>Seated Back Extension</td>\n",
       "      <td>c6J6ysvb92</td>\n",
       "      <td>2017-02-15</td>\n",
       "      <td>fake_id_409</td>\n",
       "    </tr>\n",
       "    <tr>\n",
       "      <th>1</th>\n",
       "      <td>2O56j9vrss</td>\n",
       "      <td>0.0</td>\n",
       "      <td>10.0</td>\n",
       "      <td>NaN</td>\n",
       "      <td>NaN</td>\n",
       "      <td>NaN</td>\n",
       "      <td>4</td>\n",
       "      <td>2teBRWJpfh</td>\n",
       "      <td>Jackknife Sit-Up</td>\n",
       "      <td>UVfntrVxza</td>\n",
       "      <td>2016-12-17</td>\n",
       "      <td>fake_id_409</td>\n",
       "    </tr>\n",
       "    <tr>\n",
       "      <th>2</th>\n",
       "      <td>FU8ucj5AGy</td>\n",
       "      <td>0.0</td>\n",
       "      <td>12.0</td>\n",
       "      <td>NaN</td>\n",
       "      <td>NaN</td>\n",
       "      <td>NaN</td>\n",
       "      <td>3</td>\n",
       "      <td>LRJF4cbQc5</td>\n",
       "      <td>Decline Reverse Crunch</td>\n",
       "      <td>5FCw94ZFqt</td>\n",
       "      <td>2016-12-20</td>\n",
       "      <td>fake_id_409</td>\n",
       "    </tr>\n",
       "    <tr>\n",
       "      <th>3</th>\n",
       "      <td>wFxF45dKxJ</td>\n",
       "      <td>167.0</td>\n",
       "      <td>14.0</td>\n",
       "      <td>NaN</td>\n",
       "      <td>NaN</td>\n",
       "      <td>NaN</td>\n",
       "      <td>4</td>\n",
       "      <td>YVjA3SVe4Q</td>\n",
       "      <td>Sit Up</td>\n",
       "      <td>OTd45eGqie</td>\n",
       "      <td>2017-01-05</td>\n",
       "      <td>fake_id_410</td>\n",
       "    </tr>\n",
       "    <tr>\n",
       "      <th>4</th>\n",
       "      <td>ulaeQ8IRw8</td>\n",
       "      <td>22.5</td>\n",
       "      <td>7.0</td>\n",
       "      <td>NaN</td>\n",
       "      <td>NaN</td>\n",
       "      <td>NaN</td>\n",
       "      <td>1</td>\n",
       "      <td>tehh7FQEUC</td>\n",
       "      <td>Dumbbell Lateral Raise</td>\n",
       "      <td>f2ENGz61Ly</td>\n",
       "      <td>2017-01-11</td>\n",
       "      <td>fake_id_410</td>\n",
       "    </tr>\n",
       "  </tbody>\n",
       "</table>\n",
       "</div>"
      ],
      "text/plain": [
       "  singleSetId  weight  reps  distance  duration  elevationGain  setNumber  \\\n",
       "0  z83zJRBfSp   125.0   8.0       NaN       NaN            NaN          3   \n",
       "1  2O56j9vrss     0.0  10.0       NaN       NaN            NaN          4   \n",
       "2  FU8ucj5AGy     0.0  12.0       NaN       NaN            NaN          3   \n",
       "3  wFxF45dKxJ   167.0  14.0       NaN       NaN            NaN          4   \n",
       "4  ulaeQ8IRw8    22.5   7.0       NaN       NaN            NaN          1   \n",
       "\n",
       "  exerciseSetParseId            exerciseName   workoutId workoutDate  \\\n",
       "0         QfAaTjZ3v6   Seated Back Extension  c6J6ysvb92  2017-02-15   \n",
       "1         2teBRWJpfh        Jackknife Sit-Up  UVfntrVxza  2016-12-17   \n",
       "2         LRJF4cbQc5  Decline Reverse Crunch  5FCw94ZFqt  2016-12-20   \n",
       "3         YVjA3SVe4Q                  Sit Up  OTd45eGqie  2017-01-05   \n",
       "4         tehh7FQEUC  Dumbbell Lateral Raise  f2ENGz61Ly  2017-01-11   \n",
       "\n",
       "  fake_user_id  \n",
       "0  fake_id_409  \n",
       "1  fake_id_409  \n",
       "2  fake_id_409  \n",
       "3  fake_id_410  \n",
       "4  fake_id_410  "
      ]
     },
     "execution_count": 15,
     "metadata": {},
     "output_type": "execute_result"
    }
   ],
   "source": [
    "data.head(5)\n",
    "#Preliminary Data Scan"
   ]
  },
  {
   "cell_type": "code",
   "execution_count": 16,
   "metadata": {},
   "outputs": [
    {
     "name": "stdout",
     "output_type": "stream",
     "text": [
      "<class 'pandas.core.frame.DataFrame'>\n",
      "RangeIndex: 22359 entries, 0 to 22358\n",
      "Data columns (total 12 columns):\n",
      "singleSetId           22359 non-null object\n",
      "weight                22359 non-null float64\n",
      "reps                  22359 non-null float64\n",
      "distance              19802 non-null float64\n",
      "duration              19802 non-null float64\n",
      "elevationGain         19802 non-null float64\n",
      "setNumber             22359 non-null int64\n",
      "exerciseSetParseId    22359 non-null object\n",
      "exerciseName          22355 non-null object\n",
      "workoutId             22359 non-null object\n",
      "workoutDate           22359 non-null object\n",
      "fake_user_id          22359 non-null object\n",
      "dtypes: float64(5), int64(1), object(6)\n",
      "memory usage: 2.0+ MB\n"
     ]
    }
   ],
   "source": [
    "data.info()"
   ]
  },
  {
   "cell_type": "code",
   "execution_count": 17,
   "metadata": {},
   "outputs": [
    {
     "data": {
      "text/plain": [
       "(22359, 12)"
      ]
     },
     "execution_count": 17,
     "metadata": {},
     "output_type": "execute_result"
    }
   ],
   "source": [
    "data.shape"
   ]
  },
  {
   "cell_type": "code",
   "execution_count": 18,
   "metadata": {
    "scrolled": true
   },
   "outputs": [
    {
     "data": {
      "text/html": [
       "<div>\n",
       "<style scoped>\n",
       "    .dataframe tbody tr th:only-of-type {\n",
       "        vertical-align: middle;\n",
       "    }\n",
       "\n",
       "    .dataframe tbody tr th {\n",
       "        vertical-align: top;\n",
       "    }\n",
       "\n",
       "    .dataframe thead th {\n",
       "        text-align: right;\n",
       "    }\n",
       "</style>\n",
       "<table border=\"1\" class=\"dataframe\">\n",
       "  <thead>\n",
       "    <tr style=\"text-align: right;\">\n",
       "      <th></th>\n",
       "      <th>weight</th>\n",
       "      <th>reps</th>\n",
       "      <th>distance</th>\n",
       "      <th>duration</th>\n",
       "      <th>elevationGain</th>\n",
       "      <th>setNumber</th>\n",
       "    </tr>\n",
       "  </thead>\n",
       "  <tbody>\n",
       "    <tr>\n",
       "      <th>count</th>\n",
       "      <td>22359.000000</td>\n",
       "      <td>22359.000000</td>\n",
       "      <td>19802.000000</td>\n",
       "      <td>19802.000000</td>\n",
       "      <td>19802.000000</td>\n",
       "      <td>22359.000000</td>\n",
       "    </tr>\n",
       "    <tr>\n",
       "      <th>mean</th>\n",
       "      <td>33.466214</td>\n",
       "      <td>10.266023</td>\n",
       "      <td>63.204014</td>\n",
       "      <td>25.387602</td>\n",
       "      <td>0.000424</td>\n",
       "      <td>2.484324</td>\n",
       "    </tr>\n",
       "    <tr>\n",
       "      <th>std</th>\n",
       "      <td>39.464208</td>\n",
       "      <td>5.978327</td>\n",
       "      <td>851.844955</td>\n",
       "      <td>668.525594</td>\n",
       "      <td>0.030634</td>\n",
       "      <td>1.379476</td>\n",
       "    </tr>\n",
       "    <tr>\n",
       "      <th>min</th>\n",
       "      <td>0.000000</td>\n",
       "      <td>0.000000</td>\n",
       "      <td>0.000000</td>\n",
       "      <td>0.000000</td>\n",
       "      <td>0.000000</td>\n",
       "      <td>1.000000</td>\n",
       "    </tr>\n",
       "    <tr>\n",
       "      <th>25%</th>\n",
       "      <td>4.535929</td>\n",
       "      <td>7.000000</td>\n",
       "      <td>0.000000</td>\n",
       "      <td>0.000000</td>\n",
       "      <td>0.000000</td>\n",
       "      <td>1.000000</td>\n",
       "    </tr>\n",
       "    <tr>\n",
       "      <th>50%</th>\n",
       "      <td>20.411681</td>\n",
       "      <td>10.000000</td>\n",
       "      <td>0.000000</td>\n",
       "      <td>0.000000</td>\n",
       "      <td>0.000000</td>\n",
       "      <td>2.000000</td>\n",
       "    </tr>\n",
       "    <tr>\n",
       "      <th>75%</th>\n",
       "      <td>49.895220</td>\n",
       "      <td>12.000000</td>\n",
       "      <td>0.000000</td>\n",
       "      <td>0.000000</td>\n",
       "      <td>0.000000</td>\n",
       "      <td>3.000000</td>\n",
       "    </tr>\n",
       "    <tr>\n",
       "      <th>max</th>\n",
       "      <td>362.874328</td>\n",
       "      <td>95.000000</td>\n",
       "      <td>86904.576000</td>\n",
       "      <td>90020.000000</td>\n",
       "      <td>3.048000</td>\n",
       "      <td>11.000000</td>\n",
       "    </tr>\n",
       "  </tbody>\n",
       "</table>\n",
       "</div>"
      ],
      "text/plain": [
       "             weight          reps      distance      duration  elevationGain  \\\n",
       "count  22359.000000  22359.000000  19802.000000  19802.000000   19802.000000   \n",
       "mean      33.466214     10.266023     63.204014     25.387602       0.000424   \n",
       "std       39.464208      5.978327    851.844955    668.525594       0.030634   \n",
       "min        0.000000      0.000000      0.000000      0.000000       0.000000   \n",
       "25%        4.535929      7.000000      0.000000      0.000000       0.000000   \n",
       "50%       20.411681     10.000000      0.000000      0.000000       0.000000   \n",
       "75%       49.895220     12.000000      0.000000      0.000000       0.000000   \n",
       "max      362.874328     95.000000  86904.576000  90020.000000       3.048000   \n",
       "\n",
       "          setNumber  \n",
       "count  22359.000000  \n",
       "mean       2.484324  \n",
       "std        1.379476  \n",
       "min        1.000000  \n",
       "25%        1.000000  \n",
       "50%        2.000000  \n",
       "75%        3.000000  \n",
       "max       11.000000  "
      ]
     },
     "execution_count": 18,
     "metadata": {},
     "output_type": "execute_result"
    }
   ],
   "source": [
    "data.describe()\n",
    "#We're prescribing 11 sets of somthing? Check that out at some point... Maybe it's some sort of HIIT"
   ]
  },
  {
   "cell_type": "code",
   "execution_count": 19,
   "metadata": {},
   "outputs": [
    {
     "name": "stdout",
     "output_type": "stream",
     "text": [
      "22343\n",
      "6499\n",
      "1102\n",
      "607\n",
      "20\n"
     ]
    }
   ],
   "source": [
    "#Figuring out what these ID's mean\n",
    "\n",
    "print(len(data.singleSetId.unique()))\n",
    "print(len(data.exerciseSetParseId.unique()))\n",
    "print(len(data.workoutId.unique()))\n",
    "print(len(data.workoutDate.unique()))\n",
    "print(len(data.fake_user_id.unique()))"
   ]
  },
  {
   "cell_type": "code",
   "execution_count": 20,
   "metadata": {},
   "outputs": [
    {
     "name": "stdout",
     "output_type": "stream",
     "text": [
      "      singleSetId  weight  reps  distance  duration  elevationGain  setNumber  \\\n",
      "0      z83zJRBfSp   125.0   8.0       NaN       NaN            NaN          3   \n",
      "5206   wuGAboCm5x   125.0   8.0       NaN       NaN            NaN          1   \n",
      "13048  nt6ttsLKCH   125.0   8.0       NaN       NaN            NaN          4   \n",
      "15265  WyfIpjzqGd   125.0   8.0       NaN       NaN            NaN          2   \n",
      "\n",
      "      exerciseSetParseId           exerciseName   workoutId workoutDate  \\\n",
      "0             QfAaTjZ3v6  Seated Back Extension  c6J6ysvb92  2017-02-15   \n",
      "5206          QfAaTjZ3v6  Seated Back Extension  c6J6ysvb92  2017-02-15   \n",
      "13048         QfAaTjZ3v6  Seated Back Extension  c6J6ysvb92  2017-02-15   \n",
      "15265         QfAaTjZ3v6  Seated Back Extension  c6J6ysvb92  2017-02-15   \n",
      "\n",
      "      fake_user_id  \n",
      "0      fake_id_409  \n",
      "5206   fake_id_409  \n",
      "13048  fake_id_409  \n",
      "15265  fake_id_409  \n"
     ]
    }
   ],
   "source": [
    "id_test = data['exerciseSetParseId'] == \"QfAaTjZ3v6\"\n",
    "print(data[id_test])\n",
    "#Confirming that I understand the different ID's\n",
    "# If 4 sets of any given exercise are assigned, that block of sets will have one exerciseSetParseID"
   ]
  },
  {
   "cell_type": "code",
   "execution_count": 21,
   "metadata": {},
   "outputs": [
    {
     "name": "stdout",
     "output_type": "stream",
     "text": [
      "['Seated Back Extension' 'Jackknife Sit-Up' 'Decline Reverse Crunch'\n",
      " 'Sit Up' 'Dumbbell Lateral Raise' 'Olympic Squat' 'Incline Dumbbell Curl'\n",
      " 'Dumbbell Incline Fly' 'Dumbbell Curl' 'Lunge' 'Exercise Ball Crunch'\n",
      " 'Smith Machine Bench Press' 'Flutter Kicks' 'Dumbbell Step Up'\n",
      " 'Running - Treadmill' 'Glute Ham Raise' 'Tricep Push Up'\n",
      " 'Hanging Knee Raise' 'Biceps Curl To Shoulder Press' 'Decline Crunch'\n",
      " 'Preacher Curl' 'Machine Leg Press' 'Reverse Lunge'\n",
      " 'Machine Shoulder Press' 'Chin Up' 'Dumbbell Floor Press'\n",
      " 'Leg Raises with Stability Ball' 'Barbell Decline Bench Press'\n",
      " 'Concentration Curl' 'Incline Push Up' 'Floor Press' 'Wide Grip Pull Up'\n",
      " 'Hanging Leg Raise' 'Hammerstrength High Row' 'Running'\n",
      " 'Medicine Ball Slam' 'Oblique Crunch' 'Stiff-Legged Barbell Good Morning'\n",
      " 'Landmine Squat to Press' 'Front Plate Raise' 'Barbell Step Up'\n",
      " 'Snatch-Grip Deadlift' 'Reverse Crunch' 'Machine Tricep Dip'\n",
      " 'Reverse Grip Barbell Bent Over Row' 'Dumbbell Bent Over Row'\n",
      " 'TRX Tricep Extension' 'Sumo Deadlift' 'Machine Rear Delt Fly'\n",
      " 'V-Bar Pull Up' 'Smith Machine Decline Press'\n",
      " 'Bosu Ball Mountain Climber' 'TRX Row' 'Ab Crunch Machine'\n",
      " 'Assisted Neutral Grip Pull Up' 'Battle Ropes' 'Kettlebell Upright Row'\n",
      " 'Dumbbell Side Bend' 'EZ-Bar Skullcrusher' 'Cable Russian Twists'\n",
      " 'Cable Chest Press' 'Trap Bar Deadlift' 'Single Arm Lat Pulldown'\n",
      " 'Head Tilt' 'Power Clean' 'Reverse Barbell Curl' 'Machine Bench Press'\n",
      " 'Cable Tricep Pushdown' 'Scissor Crossover Kick' 'Wide Grip Lat Pulldown'\n",
      " 'Tricep Overhead Extension with Rope'\n",
      " 'Single Arm Dumbbell Tricep Extension' 'Dumbbell Squat'\n",
      " 'Cable Lateral Raise' 'Opposite Leg Toe Touch' 'Leg Pull-In'\n",
      " 'Cable Preacher Curl' 'Kettlebell Swing' 'Machine Bicep Curl' 'Leg Curl'\n",
      " 'Machine Row' 'Couch Stretch' 'Good Morning' 'Decline Push Up'\n",
      " 'Cable Hip Extension' 'Cable Tricep Extension' 'Machine Lateral Raise'\n",
      " 'Smith Machine Stiff-Legged Deadlift' 'Plate Twist'\n",
      " 'Bulgarian Split Squat' 'Elliptical' 'Standing Cable Core Twist'\n",
      " 'Thruster' 'Smith Machine Upright Row' 'Shotgun Row' 'Split Squat'\n",
      " 'Scissor Kick' 'Dumbbell Stiff Legged Deadlift' 'Rack Pulls'\n",
      " 'Clean High Pull' 'Upright Row' 'Seated Leg Curl' 'Lat Pulldown'\n",
      " 'Dumbbell Front Raise' 'Close-Grip Bench Press' 'Russian Twist'\n",
      " 'Dumbbell Row' 'Skullcrusher' 'Back Extensions'\n",
      " 'Cable Rope Tricep Extension' 'Romanian Deadlift' 'EZ-Bar Curl'\n",
      " 'Dumbbell Kickbacks' 'Crunches' 'Back Squat' 'Leg Raise' 'Leg Press'\n",
      " 'Cable Row' 'Machine Fly' 'Seated Dumbbell Curl'\n",
      " 'Dumbbell Incline Bench Press' 'Dumbbell Lunge' 'Deadlift' 'Dumbbell Fly'\n",
      " 'Cable Crossover Fly' 'Dumbbell Bench Press' 'Superman' 'Leg Extension'\n",
      " 'Barbell Bench Press' 'Dumbbell Shoulder Press' 'Bicycle Crunch'\n",
      " 'Barbell Curl' 'Barbell Shoulder Press' 'Dumbbell Bicep Curl'\n",
      " 'Seated Tricep Press' 'Bent Over Barbell Row' 'Hammer Curls' 'Pull Up'\n",
      " 'Barbell Incline Bench Press' 'Push Press' 'Shoulder Press'\n",
      " 'Dumbbell Shrug' 'Tricep Dip' 'Standing Leg Curl' 'Dumbbell Decline Fly'\n",
      " 'Cable Pull Through' 'Landmine Core Rotation' 'TRX Suspended Plank'\n",
      " 'Hammerstrength Shrug' 'Windmill' 'Butt Kick' 'Svend Press'\n",
      " 'Palms-Down Dumbbell Wrist Curl' 'Box Squat' 'Handle Band Upright Row'\n",
      " 'Hammerstrength Incline Chest Press'\n",
      " 'Cable Rope Overhead Triceps Extension' 'Vertical Knee Raise'\n",
      " 'Seated Machine Calf Press' 'Single Arm Floor Press'\n",
      " 'Dumbbell Decline Bench Press' 'Side Bridge' 'Seated Cable Row'\n",
      " 'Single Leg Leg Extension' 'Assisted Dip' 'Step Up' 'Dumbbell Pullover'\n",
      " 'Bosu Ball Push Up' 'Hammerstrength Shoulder Press' 'Hack Squat'\n",
      " 'Weighted Ball Hyperextension' 'Knee to Chest Stretch' 'Calf Press'\n",
      " 'Rowing' 'Single Leg Romanian Deadlift' 'Dip' 'Low Cable Chest Fly'\n",
      " 'Bosu Ball Squat' 'Single Leg Glute Bridge' 'Dumbbell Upright Row'\n",
      " 'Smith Machine Incline Bench Press' 'V-Bar Pulldown'\n",
      " 'Straight-Arm Pulldown' 'Smith Machine Close-Grip Bench Press'\n",
      " 'Box Front Squat' 'Single Arm Cable Bicep Curl' 'Cable Wood Chop'\n",
      " 'Tuck Crunch' 'Hiking' 'Dumbbell Skullcrusher' 'Lying Hamstrings Curl'\n",
      " 'Dumbbell Tricep Extension' 'Dumbbell Shoulder Raise'\n",
      " 'Dumbbell Rear Delt Raise' 'Front Squat' 'Push Up' 'Single Leg Kickback'\n",
      " 'Toes to Bar' 'Side Laterals to Front Raise' 'Cable Crunch'\n",
      " 'Tricep Kickback' 'Stiff-Legged Deadlift' 'Machine Preacher Curl'\n",
      " 'Lunge with Ankle Grab' 'Palms-Down Barbell Wrist Curl' 'Toe Touchers'\n",
      " 'Burpee' 'Barbell Shrug' 'Stability Ball Hip Bridge' 'Barbell Hip Thrust'\n",
      " 'Cable Rear Delt Fly' 'Hammerstrength Chest Press' 'Machine Hip Adductor'\n",
      " 'Jump Squat' 'Inverted Row' 'Incline Hammer Curl'\n",
      " 'Barbell Bicep Drag Curl' 'Glute Kickback Machine'\n",
      " 'Handle Band Forward Raise' 'Jump Rope' 'Cable Bicep Curl'\n",
      " 'Single Arm Overhead Press' 'Clean' 'Single Arm Landmine Row'\n",
      " 'Smith Machine Squat' 'Clean Deadlift' 'Ab Rollout'\n",
      " 'Machine Hip Abductor' 'Arnold Dumbbell Press' 'Neutral Grip Pull Up'\n",
      " 'Floor Glute-Ham Raise' 'Clean and Jerk' 'Stability Ball Hyperextension'\n",
      " 'Plank' 'Landmine Row' 'Cycling - Stationary' 'Barbell Lunge' 'Dead Bug'\n",
      " 'Dumbbell Reverse Fly' 'Tuck Jump' 'Hang Snatch' 'Foam Roll Lats'\n",
      " 'Dumbbell Sumo Squat' 'Side Lunge' 'Kneeling Squat' 'TRX Glute Bridge'\n",
      " 'Zottman Curl' 'Hammerstrength Decline Chest Press'\n",
      " 'Overhead PVC Shoulder Stretch' 'Seated Barbell Shoulder Press'\n",
      " 'Single Arm Preacher Curl' 'Cross Body Mountain Climber'\n",
      " 'Medicine Ball Full Twist' 'Seated Dumbbell Rear Delt Raise'\n",
      " 'Reverse Hyperextension' 'Exercise Ball Pull In' 'Hammerstrength Iso Row'\n",
      " 'Bosu Ball Plank' 'Standing Barbell Calf Raise' 'Hang Clean' 'Air Squats'\n",
      " 'Rear Delt Raise' 'Hip Thrust' 'Smith Machine Bent Over Row' 'Cycling'\n",
      " 'Alternating Medicine Ball Push Up' 'Wall Ball' 'Stair Stepper'\n",
      " 'Stability Ball Plank' 'Mountain Climber' 'Hanging Oblique Knee Raise'\n",
      " 'Barbell Glute Bridge' 'Standing Arnold Press' 'Walking Lunge'\n",
      " 'Machine Tricep Extension' 'Dumbbell Back Fly' 'Reverse Grip Pull Down'\n",
      " 'Single Leg Kettlebell Deadlift' 'Kettlebell Snatch' 'Push Jerk' 'Snatch'\n",
      " 'Bosu Ball Crunch' 'Power Snatch' 'Single Arm Landmine Press' 'Clam'\n",
      " 'Standing Machine Calf Press' 'Assisted Pull Up' 'Assisted Chin Up'\n",
      " 'Single Leg Cable Kickback' 'Cable Face Pull' 'Smith Machine Calf Raise'\n",
      " 'Foam Roll Quadriceps' 'Posterior Isometric Neck' 'Barbell Row'\n",
      " 'Kettlebell Sumo Squat' 'Side Leg Raises' 'Zottman Preacher Curl'\n",
      " 'Supine Back Stretch' 'Exercise Ball Push Up' 'Machine Squat'\n",
      " 'Pike Push Up' 'Palms-Up Barbell Wrist Curl' 'Single Leg Curl'\n",
      " 'Mixed Grip Pull Up' 'Pallof Press' 'Plank Jack' 'Bench Dip'\n",
      " 'Incline Barbell Skull Crusher' 'Dumbbell Romanian Deadlift' 'T-Bar Row'\n",
      " 'Dumbbell Squat To Shoulder Press' 'Landmine Press'\n",
      " 'TRX Hamstring Pull-In' 'Tricep Stretch' 'Cable Shrugs'\n",
      " 'Single Arm Dumbbell Bench Press' 'Smith Machine Overhead Shoulder Press'\n",
      " 'TRX Chest Fly' 'Dead Hang' 'Goblet Squat' 'Mini Loop Band Lateral Walk'\n",
      " 'Walkout' 'Box Jump' 'Smith Single-Leg Split Squat' 'Barbell Ab Rollout'\n",
      " 'Knee Raise' 'Abs Complex' 'Ring Dip' 'Incline Cable Chest Press'\n",
      " 'Dumbbell Squeeze Press' 'Seated Neck Release Stretch'\n",
      " 'TRX T Deltoid Fly' 'Chest Expansion' 'Handstand Push Up'\n",
      " 'Loop Band Shoulder Squeeze' 'Loop Band Shoulder External Rotation'\n",
      " 'Cable Shoulder Press' 'Pistol Squat' 'Lateral Raise'\n",
      " 'Medicine Ball Chest Pass' 'Overhead Weighted Sit Up'\n",
      " 'Kettlebell Hang Clean' 'Muscle Clean' 'Lateral Cable Tricep Extension'\n",
      " 'Kettlebell Front Squat' 'TRX Chest Press' 'Parallel Bar Dip'\n",
      " 'Machine Overhead Press' 'Weighted Torture Twist' 'Sumo Squat'\n",
      " 'Reach Behind and Open' 'Snatch Deadlift' 'Cable Double Bicep Curl'\n",
      " 'Loop Band Shoulder Internal Rotation at 90°' 'Standing Forward Bend'\n",
      " 'Bosu Reverse Hyperextension' 'Dumbbell Snatch' 'Calf Raise'\n",
      " 'Rope Crunch' 'Wall Sit' 'Handle Band Bent Over Row' 'Bird Dog'\n",
      " 'Cross-body Arm Stretch' 'Renegade Row' 'Kettlebell Turkish Get Up'\n",
      " 'Lunge Jump' 'Dumbbell Clean' 'Floor Bridge' 'Foam Roll Hamstrings'\n",
      " 'Smith Machine Pistol Squat' 'Tricep Extension' 'Side Lateral Raise'\n",
      " 'Rear Delt Fly' 'Snatch Balance' 'Power Snatch from Blocks'\n",
      " 'Incline Dumbbell Row' 'Mini Loop Band Glute Thrust' 'Iron Cross'\n",
      " 'Walking - Treadmill' 'Smith Machine Shrug' 'Foam Roll Upper Back'\n",
      " 'Tricep Press' 'Decline Leg Raise' 'TRX Fallout' 'Butterfly Pull Up' nan\n",
      " 'TRX Bicep Curl' 'Frog Pump' 'Incline Tricep Push Up' 'Muscle Snatch'\n",
      " 'Smith Machine Leg Press' 'Handle Band Squat to Press' 'Foam Roll Chest'\n",
      " 'Kettlebell Clean' 'Incline Dumbbell Squeeze Press' 'TRX Push Up'\n",
      " 'Hang Power Clean' 'Standing Machine Calf Raise' 'Handle Band Bicep Curl'\n",
      " 'Wall Slide Stretch' 'TRX Squat and Row' 'Handle Band Tricep Extension'\n",
      " 'Single Arm Overhead Kettlebell Squat' 'Trap Bar Bent Over Row'\n",
      " 'Clean from Blocks' 'Cable Upright Row' 'Sled Drag' 'Split Jerk'\n",
      " 'Lateral Isometric Neck' 'Single Leg Hip Thrust' 'TRX Atomic Push Up'\n",
      " 'Turkish Get Up' 'TRX Pulse Lunges' 'Downward Dog' 'Kettlebell Thruster'\n",
      " 'Kettlebell Clean and Jerk' 'Smith Machine One-Arm Upright Row'\n",
      " \"Child's Pose\" 'Kettlebell Sumo High Pull' 'Hang Power Snatch'\n",
      " 'Medicine Ball Push Up' 'Single Leg Straight Forward Bend'\n",
      " 'Bent Over Row' 'Elevated Hip Bridge' 'TRX Single Leg Squat'\n",
      " 'Around the Worlds' 'Single Arm Cable Crossover' 'Walkout to Push Up'\n",
      " 'Chest Doorway Stretch' 'Shin Box Quad'\n",
      " 'Alternating Single Arm Kettlebell Swing' 'Squat with Rotation'\n",
      " 'Handle Band Row' 'Palms-Up Dumbbell Wrist Curl'\n",
      " 'Single Arm Kettlebell Swing' 'Abs Bike' 'Weighted Wall Sit'\n",
      " 'Glute Ham Raise Situp' 'Freemotion Shoulder Press' 'Diamond Push Up'\n",
      " 'Sumo Deadlift High Pull' 'Running - Trueform' 'Straight Leg Kickback'\n",
      " 'Handle Band Lat Pulldown' 'Single Leg Squat' 'Up Dog'\n",
      " 'Seated Forward Bend' 'Handle Band Lateral Raise'\n",
      " 'Handle Band Straight-Arm Pulldown' 'Foam Roll Glutes' 'TRX Pike'\n",
      " 'Overhead Squat' 'Lying Figure Four'\n",
      " 'Single Arm Kettlebell Shoulder Press' 'Kettlebell Jerk'\n",
      " 'Handle Band Squat' 'Stability Ball Plank on Bosu'\n",
      " 'Single-Leg Glute Bridge with External Rotation' 'Seated Figure Four'\n",
      " 'Handle Band Rear Deltoid Fly' 'Side Bend Stretch'\n",
      " 'Bosu Ball Cable Crunch With Side Bends' 'Archer Pull Up'\n",
      " 'Lower Back Stretch' 'TRX Mountain Climbers' 'Foam Roll Calves'\n",
      " 'Forward Stability Ball Plank' 'Lateral Step Up'\n",
      " 'PVC Shoulder External Rotation' 'Handle Band Shoulder Press'\n",
      " 'Stir the Pot' 'Power Clean from Blocks' 'Snatch Pull'\n",
      " 'Reverse Leg Crossover' 'Loop Band Shoulder External Rotation at 90°'\n",
      " 'Cat Cow' 'Pigeon Pose' 'Wall Pectoral Stretch'\n",
      " 'Loop Band Standing Ab Twist' 'Foam Roll Hip Abductors'\n",
      " 'Mini Loop Band Glute Bridge' 'Foam Roll Hip Flexors'\n",
      " 'Kettlebell Windmill']\n"
     ]
    }
   ],
   "source": [
    "print(data.exerciseName.unique())\n",
    "\n",
    "#What exercises are used in this data set?\n",
    "\n"
   ]
  },
  {
   "cell_type": "code",
   "execution_count": 22,
   "metadata": {},
   "outputs": [
    {
     "name": "stdout",
     "output_type": "stream",
     "text": [
      "                  weight       reps    distance    duration  elevationGain  \\\n",
      "fake_user_id                                                                 \n",
      "fake_id_409    21.472206  10.191444   13.645965    5.906987       0.000492   \n",
      "fake_id_410   115.608827   9.723096         NaN         NaN            NaN   \n",
      "fake_id_411    13.040678  11.979661         NaN         NaN            NaN   \n",
      "fake_id_412    38.654996  10.427067   77.354134   20.288073       0.000527   \n",
      "fake_id_413    29.504125   9.555385  134.590677   39.910769       0.000000   \n",
      "fake_id_414    42.611198  10.721614    4.777015    1.435159       0.000000   \n",
      "fake_id_415    17.152985  11.963184    0.000000    0.000000       0.000000   \n",
      "fake_id_416    13.861297  10.418139  126.832988  115.023557       0.000000   \n",
      "fake_id_417    41.815287   9.464356   40.544315   13.490594       0.000000   \n",
      "fake_id_418    12.322354   9.859060    0.000000    0.000000       0.000000   \n",
      "fake_id_419    32.040179  10.125991  146.217670   69.397914       0.000000   \n",
      "fake_id_420    11.511116  12.369198    0.000000    0.000000       0.000000   \n",
      "fake_id_421    26.493395  14.095238  147.373261   55.068323       0.000000   \n",
      "fake_id_422    42.173341   8.492063   11.794358    3.682540       0.000000   \n",
      "fake_id_423    19.254933   9.153409    0.000000    0.000000       0.000000   \n",
      "fake_id_424    46.946458  11.080935   31.405364    3.884892       0.004660   \n",
      "fake_id_425    26.105293   7.075563    0.000000    0.000000       0.000000   \n",
      "fake_id_426    18.313568   8.434343  257.332861   85.545004       0.000000   \n",
      "fake_id_427    23.306452  11.919355         NaN         NaN            NaN   \n",
      "fake_id_428    86.432592  12.122449    0.000000    0.000000       0.000000   \n",
      "\n",
      "              setNumber  \n",
      "fake_user_id             \n",
      "fake_id_409    2.338527  \n",
      "fake_id_410    2.051995  \n",
      "fake_id_411    2.318644  \n",
      "fake_id_412    3.000790  \n",
      "fake_id_413    2.169231  \n",
      "fake_id_414    2.431124  \n",
      "fake_id_415    2.008955  \n",
      "fake_id_416    2.018846  \n",
      "fake_id_417    2.462871  \n",
      "fake_id_418    2.491611  \n",
      "fake_id_419    2.600751  \n",
      "fake_id_420    2.105485  \n",
      "fake_id_421    1.987578  \n",
      "fake_id_422    2.850794  \n",
      "fake_id_423    2.660985  \n",
      "fake_id_424    2.653777  \n",
      "fake_id_425    2.646302  \n",
      "fake_id_426    2.272727  \n",
      "fake_id_427    2.427419  \n",
      "fake_id_428    2.530612  \n",
      "20\n"
     ]
    }
   ],
   "source": [
    "mean_weight_exercise_collapsed = data.groupby(['fake_user_id']).mean()\n",
    "print(mean_weight_exercise_collapsed)\n",
    "print(len(mean_weight_exercise_collapsed))\n",
    "# I have 20 users data\n"
   ]
  },
  {
   "cell_type": "code",
   "execution_count": 23,
   "metadata": {},
   "outputs": [],
   "source": [
    "### Research Question... Through talking with the user experience department at Fitbod I've learned that a massive\n",
    "# subset of our users are using Fitbod because they are power lifters trying to improve Bench Press, Squat and Deadlift\n",
    "# max values. I'm going to perform an EDA to explore how weights and repititions are being assigned for those lifts \n",
    "# to better understand how we prescribe exercise and if it's optimal for our power lifters.\n",
    "# I'm also going to create a new data column \"training volume\" which is the summation of all repititions of an\n",
    "# exercise multiplied times the ammount of weight used\n",
    "# I'm going to assess the efficacy of weight and total repititions for inclusion in a random forest for classification\n",
    "# of training volume. If the R squared isn't 1.0 I messed somthing up ;)\n",
    "# I'm attaching two papers which guided my thoughts in forming the research question and could be useful in \n",
    "# improving the Volume Prescription Engine"
   ]
  },
  {
   "cell_type": "code",
   "execution_count": 24,
   "metadata": {},
   "outputs": [
    {
     "name": "stdout",
     "output_type": "stream",
     "text": [
      "      singleSetId      weight  setNumber fake_user_id  reps\n",
      "199    BKLN71xoM4  195.000000          2  fake_id_410   5.0\n",
      "200    YWUgrYYCyI   83.914688          5  fake_id_426   1.0\n",
      "201    4zJ1D6Kweh  142.881766          7  fake_id_422   5.0\n",
      "438    bS0eDSTZxB   34.019468          3  fake_id_409   8.0\n",
      "439    0O4YoDH1Yg   20.000000          1  fake_id_412   8.0\n",
      "...           ...         ...        ...          ...   ...\n",
      "22043  oXv1gNM4yy   83.914688          2  fake_id_422   3.0\n",
      "22294  k2Tk23Hzos  135.000000          6  fake_id_412   6.0\n",
      "22295  Ln4mWgov4P   30.000000          1  fake_id_411  10.0\n",
      "22296  WubhZ5ywqr  185.000000          2  fake_id_410   4.0\n",
      "22297  9F4sPST35a  147.417696          6  fake_id_422   5.0\n",
      "\n",
      "[394 rows x 5 columns]\n"
     ]
    }
   ],
   "source": [
    "# Find mean values of each lift for each user collapsed across all workouts\n",
    "squat_df = data.loc[data['exerciseName'] == 'Olympic Squat',['singleSetId', 'weight', 'setNumber', 'fake_user_id', 'reps']]\n",
    "bench_df = data.loc[data['exerciseName'] == 'Barbell Bench Press',['singleSetId', 'weight', 'setNumber', 'fake_user_id', 'reps']]\n",
    "deadlift_df = data.loc[data['exerciseName'] == 'Deadlift',['singleSetId', 'weight', 'setNumber', 'fake_user_id', 'reps']]\n",
    "#print(squat_df)\n",
    "print(deadlift_df)\n",
    "#print(bench_df)"
   ]
  },
  {
   "cell_type": "code",
   "execution_count": 25,
   "metadata": {},
   "outputs": [
    {
     "name": "stdout",
     "output_type": "stream",
     "text": [
      "4\n",
      "14\n",
      "12\n"
     ]
    }
   ],
   "source": [
    "mean_squat = squat_df.groupby(['fake_user_id']).mean()\n",
    "mean_bench = bench_df.groupby(['fake_user_id']).mean()\n",
    "mean_deadlift = deadlift_df.groupby(['fake_user_id']).mean()\n",
    "print(len(mean_squat))\n",
    "print(len(mean_bench))\n",
    "print(len(mean_deadlift))\n",
    "\n",
    "#print(mean_bench)\n",
    "# Of my twenty users only 4, 11, 12 have performed the Olympic Squat and Barbell Bench Press, Deadlift, respectively\n",
    "# This ended up being rendundant due to .describe()"
   ]
  },
  {
   "cell_type": "code",
   "execution_count": 26,
   "metadata": {},
   "outputs": [
    {
     "data": {
      "text/html": [
       "<div>\n",
       "<style scoped>\n",
       "    .dataframe tbody tr th:only-of-type {\n",
       "        vertical-align: middle;\n",
       "    }\n",
       "\n",
       "    .dataframe tbody tr th {\n",
       "        vertical-align: top;\n",
       "    }\n",
       "\n",
       "    .dataframe thead th {\n",
       "        text-align: right;\n",
       "    }\n",
       "</style>\n",
       "<table border=\"1\" class=\"dataframe\">\n",
       "  <thead>\n",
       "    <tr style=\"text-align: right;\">\n",
       "      <th></th>\n",
       "      <th>weight</th>\n",
       "      <th>setNumber</th>\n",
       "      <th>reps</th>\n",
       "    </tr>\n",
       "  </thead>\n",
       "  <tbody>\n",
       "    <tr>\n",
       "      <th>count</th>\n",
       "      <td>4.000000</td>\n",
       "      <td>4.000</td>\n",
       "      <td>4.000000</td>\n",
       "    </tr>\n",
       "    <tr>\n",
       "      <th>mean</th>\n",
       "      <td>69.467623</td>\n",
       "      <td>3.375</td>\n",
       "      <td>6.375595</td>\n",
       "    </tr>\n",
       "    <tr>\n",
       "      <th>std</th>\n",
       "      <td>27.788959</td>\n",
       "      <td>0.750</td>\n",
       "      <td>1.474154</td>\n",
       "    </tr>\n",
       "    <tr>\n",
       "      <th>min</th>\n",
       "      <td>39.851377</td>\n",
       "      <td>2.500</td>\n",
       "      <td>4.714286</td>\n",
       "    </tr>\n",
       "    <tr>\n",
       "      <th>25%</th>\n",
       "      <td>48.745038</td>\n",
       "      <td>2.875</td>\n",
       "      <td>5.357143</td>\n",
       "    </tr>\n",
       "    <tr>\n",
       "      <th>50%</th>\n",
       "      <td>71.926224</td>\n",
       "      <td>3.500</td>\n",
       "      <td>6.494048</td>\n",
       "    </tr>\n",
       "    <tr>\n",
       "      <th>75%</th>\n",
       "      <td>92.648810</td>\n",
       "      <td>4.000</td>\n",
       "      <td>7.512500</td>\n",
       "    </tr>\n",
       "    <tr>\n",
       "      <th>max</th>\n",
       "      <td>94.166667</td>\n",
       "      <td>4.000</td>\n",
       "      <td>7.800000</td>\n",
       "    </tr>\n",
       "  </tbody>\n",
       "</table>\n",
       "</div>"
      ],
      "text/plain": [
       "          weight  setNumber      reps\n",
       "count   4.000000      4.000  4.000000\n",
       "mean   69.467623      3.375  6.375595\n",
       "std    27.788959      0.750  1.474154\n",
       "min    39.851377      2.500  4.714286\n",
       "25%    48.745038      2.875  5.357143\n",
       "50%    71.926224      3.500  6.494048\n",
       "75%    92.648810      4.000  7.512500\n",
       "max    94.166667      4.000  7.800000"
      ]
     },
     "execution_count": 26,
     "metadata": {},
     "output_type": "execute_result"
    }
   ],
   "source": [
    "mean_squat.describe()\n",
    "# Squat Descriptive Statistics"
   ]
  },
  {
   "cell_type": "code",
   "execution_count": 27,
   "metadata": {},
   "outputs": [
    {
     "data": {
      "text/html": [
       "<div>\n",
       "<style scoped>\n",
       "    .dataframe tbody tr th:only-of-type {\n",
       "        vertical-align: middle;\n",
       "    }\n",
       "\n",
       "    .dataframe tbody tr th {\n",
       "        vertical-align: top;\n",
       "    }\n",
       "\n",
       "    .dataframe thead th {\n",
       "        text-align: right;\n",
       "    }\n",
       "</style>\n",
       "<table border=\"1\" class=\"dataframe\">\n",
       "  <thead>\n",
       "    <tr style=\"text-align: right;\">\n",
       "      <th></th>\n",
       "      <th>weight</th>\n",
       "      <th>setNumber</th>\n",
       "      <th>reps</th>\n",
       "    </tr>\n",
       "  </thead>\n",
       "  <tbody>\n",
       "    <tr>\n",
       "      <th>count</th>\n",
       "      <td>14.000000</td>\n",
       "      <td>14.000000</td>\n",
       "      <td>14.000000</td>\n",
       "    </tr>\n",
       "    <tr>\n",
       "      <th>mean</th>\n",
       "      <td>62.739470</td>\n",
       "      <td>2.956461</td>\n",
       "      <td>7.274504</td>\n",
       "    </tr>\n",
       "    <tr>\n",
       "      <th>std</th>\n",
       "      <td>41.599508</td>\n",
       "      <td>0.850072</td>\n",
       "      <td>1.953798</td>\n",
       "    </tr>\n",
       "    <tr>\n",
       "      <th>min</th>\n",
       "      <td>25.000000</td>\n",
       "      <td>2.000000</td>\n",
       "      <td>4.440000</td>\n",
       "    </tr>\n",
       "    <tr>\n",
       "      <th>25%</th>\n",
       "      <td>35.289528</td>\n",
       "      <td>2.000000</td>\n",
       "      <td>5.720200</td>\n",
       "    </tr>\n",
       "    <tr>\n",
       "      <th>50%</th>\n",
       "      <td>57.143709</td>\n",
       "      <td>3.034925</td>\n",
       "      <td>7.194306</td>\n",
       "    </tr>\n",
       "    <tr>\n",
       "      <th>75%</th>\n",
       "      <td>72.574866</td>\n",
       "      <td>3.758877</td>\n",
       "      <td>8.730000</td>\n",
       "    </tr>\n",
       "    <tr>\n",
       "      <th>max</th>\n",
       "      <td>187.777778</td>\n",
       "      <td>4.305556</td>\n",
       "      <td>10.000000</td>\n",
       "    </tr>\n",
       "  </tbody>\n",
       "</table>\n",
       "</div>"
      ],
      "text/plain": [
       "           weight  setNumber       reps\n",
       "count   14.000000  14.000000  14.000000\n",
       "mean    62.739470   2.956461   7.274504\n",
       "std     41.599508   0.850072   1.953798\n",
       "min     25.000000   2.000000   4.440000\n",
       "25%     35.289528   2.000000   5.720200\n",
       "50%     57.143709   3.034925   7.194306\n",
       "75%     72.574866   3.758877   8.730000\n",
       "max    187.777778   4.305556  10.000000"
      ]
     },
     "execution_count": 27,
     "metadata": {},
     "output_type": "execute_result"
    }
   ],
   "source": [
    "mean_bench.describe()\n",
    "# Bench Descriptive Statistics\n"
   ]
  },
  {
   "cell_type": "code",
   "execution_count": 28,
   "metadata": {},
   "outputs": [
    {
     "data": {
      "text/html": [
       "<div>\n",
       "<style scoped>\n",
       "    .dataframe tbody tr th:only-of-type {\n",
       "        vertical-align: middle;\n",
       "    }\n",
       "\n",
       "    .dataframe tbody tr th {\n",
       "        vertical-align: top;\n",
       "    }\n",
       "\n",
       "    .dataframe thead th {\n",
       "        text-align: right;\n",
       "    }\n",
       "</style>\n",
       "<table border=\"1\" class=\"dataframe\">\n",
       "  <thead>\n",
       "    <tr style=\"text-align: right;\">\n",
       "      <th></th>\n",
       "      <th>weight</th>\n",
       "      <th>setNumber</th>\n",
       "      <th>reps</th>\n",
       "    </tr>\n",
       "  </thead>\n",
       "  <tbody>\n",
       "    <tr>\n",
       "      <th>count</th>\n",
       "      <td>12.000000</td>\n",
       "      <td>12.000000</td>\n",
       "      <td>12.000000</td>\n",
       "    </tr>\n",
       "    <tr>\n",
       "      <th>mean</th>\n",
       "      <td>82.684219</td>\n",
       "      <td>3.114383</td>\n",
       "      <td>7.255992</td>\n",
       "    </tr>\n",
       "    <tr>\n",
       "      <th>std</th>\n",
       "      <td>40.189045</td>\n",
       "      <td>0.779022</td>\n",
       "      <td>1.854492</td>\n",
       "    </tr>\n",
       "    <tr>\n",
       "      <th>min</th>\n",
       "      <td>30.000000</td>\n",
       "      <td>2.000000</td>\n",
       "      <td>4.000000</td>\n",
       "    </tr>\n",
       "    <tr>\n",
       "      <th>25%</th>\n",
       "      <td>58.891198</td>\n",
       "      <td>2.437500</td>\n",
       "      <td>6.031250</td>\n",
       "    </tr>\n",
       "    <tr>\n",
       "      <th>50%</th>\n",
       "      <td>72.130722</td>\n",
       "      <td>3.127820</td>\n",
       "      <td>7.009166</td>\n",
       "    </tr>\n",
       "    <tr>\n",
       "      <th>75%</th>\n",
       "      <td>103.578972</td>\n",
       "      <td>3.806250</td>\n",
       "      <td>8.375000</td>\n",
       "    </tr>\n",
       "    <tr>\n",
       "      <th>max</th>\n",
       "      <td>182.916667</td>\n",
       "      <td>4.227273</td>\n",
       "      <td>10.000000</td>\n",
       "    </tr>\n",
       "  </tbody>\n",
       "</table>\n",
       "</div>"
      ],
      "text/plain": [
       "           weight  setNumber       reps\n",
       "count   12.000000  12.000000  12.000000\n",
       "mean    82.684219   3.114383   7.255992\n",
       "std     40.189045   0.779022   1.854492\n",
       "min     30.000000   2.000000   4.000000\n",
       "25%     58.891198   2.437500   6.031250\n",
       "50%     72.130722   3.127820   7.009166\n",
       "75%    103.578972   3.806250   8.375000\n",
       "max    182.916667   4.227273  10.000000"
      ]
     },
     "execution_count": 28,
     "metadata": {},
     "output_type": "execute_result"
    }
   ],
   "source": [
    "mean_deadlift.describe()\n",
    "# Deadlift Descriptive Statistics\n"
   ]
  },
  {
   "cell_type": "code",
   "execution_count": 29,
   "metadata": {
    "scrolled": true
   },
   "outputs": [
    {
     "data": {
      "text/plain": [
       "(array([5., 2., 4., 2., 0., 0., 0., 0., 0., 1.]),\n",
       " array([ 25.        ,  41.27777778,  57.55555556,  73.83333333,\n",
       "         90.11111111, 106.38888889, 122.66666667, 138.94444444,\n",
       "        155.22222222, 171.5       , 187.77777778]),\n",
       " <a list of 10 Patch objects>)"
      ]
     },
     "execution_count": 29,
     "metadata": {},
     "output_type": "execute_result"
    },
    {
     "data": {
      "image/png": "[encoded data removed]",
      "text/plain": [
       "<Figure size 432x288 with 1 Axes>"
      ]
     },
     "metadata": {
      "needs_background": "light"
     },
     "output_type": "display_data"
    }
   ],
   "source": [
    "# Mean Bench Press Weight Distributions\n",
    "num_bins=10\n",
    "plt.title('Mean Bench Weight Per User (Collapsed Across All Workouts)')\n",
    "plt.xlabel('Weight')\n",
    "plt.ylabel('Number of Users')\n",
    "plt.hist(mean_bench['weight'],num_bins)\n",
    "\n",
    "#I'm guessing these weights are in KG's... \n"
   ]
  },
  {
   "cell_type": "code",
   "execution_count": 30,
   "metadata": {},
   "outputs": [
    {
     "data": {
      "text/plain": [
       "<matplotlib.axes._subplots.AxesSubplot at 0x1a18855b50>"
      ]
     },
     "execution_count": 30,
     "metadata": {},
     "output_type": "execute_result"
    },
    {
     "data": {
      "image/png": "[encoded data removed]",
      "text/plain": [
       "<Figure size 432x288 with 1 Axes>"
      ]
     },
     "metadata": {
      "needs_background": "light"
     },
     "output_type": "display_data"
    }
   ],
   "source": [
    "# Probability Density Function- Bench Weight\n",
    "sns.distplot(mean_bench['weight'],bins=num_bins)"
   ]
  },
  {
   "cell_type": "code",
   "execution_count": 31,
   "metadata": {},
   "outputs": [
    {
     "data": {
      "text/plain": [
       "(array([2., 1., 2., 1., 1., 1., 2., 0., 1., 3.]),\n",
       " array([ 4.44 ,  4.996,  5.552,  6.108,  6.664,  7.22 ,  7.776,  8.332,\n",
       "         8.888,  9.444, 10.   ]),\n",
       " <a list of 10 Patch objects>)"
      ]
     },
     "execution_count": 31,
     "metadata": {},
     "output_type": "execute_result"
    },
    {
     "data": {
      "image/png": "[encoded data removed]",
      "text/plain": [
       "<Figure size 432x288 with 1 Axes>"
      ]
     },
     "metadata": {
      "needs_background": "light"
     },
     "output_type": "display_data"
    }
   ],
   "source": [
    "# Bench Press Reps Per Set Distribution\n",
    "plt.title('Mean Bench Press Reps per Set Per User (Collapsed Across Workouts)')\n",
    "plt.xlabel('Repititions Per Set')\n",
    "plt.ylabel('Number of Users')\n",
    "plt.hist(mean_bench['reps'],num_bins)"
   ]
  },
  {
   "cell_type": "code",
   "execution_count": 32,
   "metadata": {},
   "outputs": [
    {
     "data": {
      "text/plain": [
       "<matplotlib.axes._subplots.AxesSubplot at 0x1a18a48090>"
      ]
     },
     "execution_count": 32,
     "metadata": {},
     "output_type": "execute_result"
    },
    {
     "data": {
      "image/png": "[encoded data removed]",
      "text/plain": [
       "<Figure size 432x288 with 1 Axes>"
      ]
     },
     "metadata": {
      "needs_background": "light"
     },
     "output_type": "display_data"
    }
   ],
   "source": [
    "# Probability Density Function- Reps Per Set Bench\n",
    "sns.distplot(mean_bench['reps'],bins=num_bins)"
   ]
  },
  {
   "cell_type": "code",
   "execution_count": 33,
   "metadata": {},
   "outputs": [
    {
     "data": {
      "text/plain": [
       "(array([1., 0., 1., 0., 0., 0., 0., 0., 0., 2.]),\n",
       " array([39.85137704, 45.28290601, 50.71443497, 56.14596393, 61.57749289,\n",
       "        67.00902185, 72.44055082, 77.87207978, 83.30360874, 88.7351377 ,\n",
       "        94.16666667]),\n",
       " <a list of 10 Patch objects>)"
      ]
     },
     "execution_count": 33,
     "metadata": {},
     "output_type": "execute_result"
    },
    {
     "data": {
      "image/png": "[encoded data removed]",
      "text/plain": [
       "<Figure size 432x288 with 1 Axes>"
      ]
     },
     "metadata": {
      "needs_background": "light"
     },
     "output_type": "display_data"
    }
   ],
   "source": [
    "# Visualization of Mean Olympic Squat Weight Distribution\n",
    "num_bins=10\n",
    "plt.title('Mean Olympic Squat Weight Per User (Collapsed Across All Workouts)')\n",
    "plt.xlabel('Weight')\n",
    "plt.ylabel('Number of Users')\n",
    "plt.hist(mean_squat['weight'],num_bins)"
   ]
  },
  {
   "cell_type": "code",
   "execution_count": 34,
   "metadata": {},
   "outputs": [
    {
     "data": {
      "text/plain": [
       "<matplotlib.axes._subplots.AxesSubplot at 0x1a18be2bd0>"
      ]
     },
     "execution_count": 34,
     "metadata": {},
     "output_type": "execute_result"
    },
    {
     "data": {
      "image/png": "[encoded data removed]",
      "text/plain": [
       "<Figure size 432x288 with 1 Axes>"
      ]
     },
     "metadata": {
      "needs_background": "light"
     },
     "output_type": "display_data"
    }
   ],
   "source": [
    "# Probability Density Function- Squat Weight\n",
    "sns.distplot(mean_squat['weight'],bins=num_bins)"
   ]
  },
  {
   "cell_type": "code",
   "execution_count": 35,
   "metadata": {},
   "outputs": [
    {
     "data": {
      "text/plain": [
       "(array([2., 1., 2., 1., 1., 1., 2., 0., 1., 3.]),\n",
       " array([ 4.44 ,  4.996,  5.552,  6.108,  6.664,  7.22 ,  7.776,  8.332,\n",
       "         8.888,  9.444, 10.   ]),\n",
       " <a list of 10 Patch objects>)"
      ]
     },
     "execution_count": 35,
     "metadata": {},
     "output_type": "execute_result"
    },
    {
     "data": {
      "image/png": "[encoded data removed]",
      "text/plain": [
       "<Figure size 432x288 with 1 Axes>"
      ]
     },
     "metadata": {
      "needs_background": "light"
     },
     "output_type": "display_data"
    }
   ],
   "source": [
    "# Mean Olympic Squat Reps Per Set Distribution\n",
    "plt.title('Mean Bench Press Sets Per User (Collapsed Across Workouts)')\n",
    "plt.xlabel('Repititions Per Set')\n",
    "plt.ylabel('Number of Users')\n",
    "plt.hist(mean_bench['reps'],num_bins)\n"
   ]
  },
  {
   "cell_type": "code",
   "execution_count": 36,
   "metadata": {},
   "outputs": [
    {
     "data": {
      "text/plain": [
       "<matplotlib.axes._subplots.AxesSubplot at 0x1a18de22d0>"
      ]
     },
     "execution_count": 36,
     "metadata": {},
     "output_type": "execute_result"
    },
    {
     "data": {
      "image/png": "[encoded data removed]",
      "text/plain": [
       "<Figure size 432x288 with 1 Axes>"
      ]
     },
     "metadata": {
      "needs_background": "light"
     },
     "output_type": "display_data"
    }
   ],
   "source": [
    "# Probability Density Function- Reps Per Set Olympic Squat\n",
    "sns.distplot(mean_squat['reps'],bins=num_bins)"
   ]
  },
  {
   "cell_type": "code",
   "execution_count": 37,
   "metadata": {},
   "outputs": [
    {
     "data": {
      "text/plain": [
       "(array([1., 5., 0., 2., 1., 2., 0., 0., 0., 1.]),\n",
       " array([ 30.        ,  45.29166667,  60.58333333,  75.875     ,\n",
       "         91.16666667, 106.45833333, 121.75      , 137.04166667,\n",
       "        152.33333333, 167.625     , 182.91666667]),\n",
       " <a list of 10 Patch objects>)"
      ]
     },
     "execution_count": 37,
     "metadata": {},
     "output_type": "execute_result"
    },
    {
     "data": {
      "image/png": "[encoded data removed]",
      "text/plain": [
       "<Figure size 432x288 with 1 Axes>"
      ]
     },
     "metadata": {
      "needs_background": "light"
     },
     "output_type": "display_data"
    }
   ],
   "source": [
    "# Mean Deadlift Weight Distributions\n",
    "num_bins=10\n",
    "plt.title('Mean Deadlift Weight Per User (Collapsed Across All Workouts)')\n",
    "plt.xlabel('Weight')\n",
    "plt.ylabel('Number of Users')\n",
    "plt.hist(mean_deadlift['weight'],num_bins)"
   ]
  },
  {
   "cell_type": "code",
   "execution_count": 38,
   "metadata": {},
   "outputs": [
    {
     "data": {
      "text/plain": [
       "<matplotlib.axes._subplots.AxesSubplot at 0x1a18f1bcd0>"
      ]
     },
     "execution_count": 38,
     "metadata": {},
     "output_type": "execute_result"
    },
    {
     "data": {
      "image/png": "[encoded data removed]",
      "text/plain": [
       "<Figure size 432x288 with 1 Axes>"
      ]
     },
     "metadata": {
      "needs_background": "light"
     },
     "output_type": "display_data"
    }
   ],
   "source": [
    "# Probability Density Function- Deadlift Weight\n",
    "sns.distplot(mean_deadlift['weight'],bins=num_bins)"
   ]
  },
  {
   "cell_type": "code",
   "execution_count": 39,
   "metadata": {},
   "outputs": [
    {
     "data": {
      "text/plain": [
       "(array([1., 0., 1., 2., 2., 2., 1., 0., 0., 3.]),\n",
       " array([ 4. ,  4.6,  5.2,  5.8,  6.4,  7. ,  7.6,  8.2,  8.8,  9.4, 10. ]),\n",
       " <a list of 10 Patch objects>)"
      ]
     },
     "execution_count": 39,
     "metadata": {},
     "output_type": "execute_result"
    },
    {
     "data": {
      "image/png": "[encoded data removed]",
      "text/plain": [
       "<Figure size 432x288 with 1 Axes>"
      ]
     },
     "metadata": {
      "needs_background": "light"
     },
     "output_type": "display_data"
    }
   ],
   "source": [
    "# Deadlift Reps Per Set Distribution\n",
    "plt.title('Mean Deadlift Reps per Set Per User (Collapsed Across Workouts)')\n",
    "plt.xlabel('Repititions Per Set')\n",
    "plt.ylabel('Number of Users')\n",
    "plt.hist(mean_deadlift['reps'],num_bins)"
   ]
  },
  {
   "cell_type": "code",
   "execution_count": 40,
   "metadata": {},
   "outputs": [
    {
     "data": {
      "text/plain": [
       "<matplotlib.axes._subplots.AxesSubplot at 0x1a191c5650>"
      ]
     },
     "execution_count": 40,
     "metadata": {},
     "output_type": "execute_result"
    },
    {
     "data": {
      "image/png": "[encoded data removed]",
      "text/plain": [
       "<Figure size 432x288 with 1 Axes>"
      ]
     },
     "metadata": {
      "needs_background": "light"
     },
     "output_type": "display_data"
    }
   ],
   "source": [
    "# Probability Density Function- Reps Per Set Deadlift\n",
    "sns.distplot(mean_deadlift['reps'],bins=num_bins)"
   ]
  },
  {
   "cell_type": "code",
   "execution_count": 41,
   "metadata": {},
   "outputs": [
    {
     "name": "stdout",
     "output_type": "stream",
     "text": [
      "    singleSetId     weight  reps  distance  duration  elevationGain  \\\n",
      "5    B5CByRpQH3  95.000000   7.0       NaN       NaN            NaN   \n",
      "40   S9L3gdEtTP  20.411681   8.0       0.0       0.0            0.0   \n",
      "92   C4NSMfF8YR  15.875752   8.0       0.0       0.0            0.0   \n",
      "103  qiLD1et8CV  10.000000  15.0       0.0       0.0            0.0   \n",
      "123  58YOWjAdlM   9.071858  12.0       0.0       0.0            0.0   \n",
      "\n",
      "     setNumber exerciseSetParseId             exerciseName   workoutId  \\\n",
      "5            4         errvOcZYZL            Olympic Squat  PMHayGiqkq   \n",
      "40           2         0r6BHpF8BC  Landmine Squat to Press  pXJdNTgxi7   \n",
      "92           2         hez1siw7yN           Dumbbell Squat  7tun2TDY5v   \n",
      "103          3         NtqtJk1FCV           Dumbbell Squat  6QHny2A13i   \n",
      "123          2         7iUPGZBkBo    Bulgarian Split Squat  LhDVcpKjQG   \n",
      "\n",
      "    workoutDate fake_user_id  \n",
      "5    2016-09-23  fake_id_410  \n",
      "40   2019-09-03  fake_id_419  \n",
      "92   2018-09-24  fake_id_417  \n",
      "103  2018-02-13  fake_id_415  \n",
      "123  2018-06-02  fake_id_409  \n"
     ]
    }
   ],
   "source": [
    "# Analyses reveal that mean sets prescribed are in line with optimal prescription practices...\n",
    "# Given that my analyses are limited by the fact that I collapsed data across all time points.\n",
    "# My analyses aren't sensitive to the fact that I may be dealing with periodized programs because I collapsed across time\n",
    "# For example, hypertrophy is important for increasing 1 rep max and it requires higher volume lifting\n",
    "# That's why power lifters still do sets with high volume as part of a periodized program\n",
    "# That said...\n",
    "# I believe that the prescribed/logged workouts are too low weight/high volume for increasing 1-RM's for the power lifts\n",
    "# To better understand if Fitbod is correctly prescribing for power lifters I need some sort of exercise intensity data\n",
    "# This is generally carried out by normalizing weight to a percentage of 1 repitition maximum for any given exercise\n",
    "# If I had cleaner data I could estimate this value using well studied formulas that take 3, 5 or 8 rep max as an input\n",
    "# Perhaps you have users log their 1 RM? If not it might not be a bad idea to have a periodic bench mark test that\n",
    "# Can be used to estimate 1 rep max for the purpose of quantifying exercise intensity as a percentage of 1 RM\n",
    "\n",
    "# Another cool option would be to ingest accelerometer data from hardware devices.\n",
    "# The basic idea is that people generally move the bar as fast as they can for all loads above 65% of 1 RM\n",
    "# This allows bar bell velocity to be a great metric of intensity/exertion\n",
    "# This could be as simple as using fitness tracker API's to ingest barbell velocity data(I know it's not actually simple ;) \n",
    "# because the wrist moves at the same speed as the bar\n",
    "# Fitbod could also generate this data be using an inexpensive IoT accelerometer that clips onto the barbell\n",
    "# One could also use this data to generate crude power estimates. This is becoming popular with products like\n",
    "# Elite Form, Perch, Tendo and Sparta Science becoming more and more affordable and available\n",
    "\n",
    "### Major Limitations of my Analyses\n",
    "# I collapsed across workouts... I wasn't able to capture the periodization scheme of the lifting program\n",
    "# I only captured the three power lifts and common varients of each exercise were not analyzed\n",
    "# I could have analyzed these data but for the sake of brevity I did not \n",
    "# I went ahead and added this data to new df... Just to document my logic\n",
    "all_squat_exercises_df = data.loc[data['exerciseName'].str.contains('Squat', na=False)]\n",
    "print(all_squat_exercises_df.head(5))\n"
   ]
  },
  {
   "cell_type": "code",
   "execution_count": 82,
   "metadata": {},
   "outputs": [],
   "source": [
    "### Actionables from data\n",
    "# To better understand if Fitbod is correctly prescribing for power lifters I need some sort of\n",
    "# exercise intensity data\n",
    "# This is generally carried out by normalizing weight to a percentage of 1 repitition maximum for any given exercise\n",
    "# It would be very helpful to have 1RM data whether true or estimated using well validated regression models\n",
    "# If we don't already have this we should prompt users to report or create a benchmark test like Crossfits \n",
    "# \"Crossfit Total\" to allow us to generate 1RM and track how it changes over time to utelize it as a covariate in\n",
    "# prescription of exercise as well as assesment of the success of our prescription engine\n",
    "# Another usefull variable is total training volume for each lift. Training volume is a handy metric that is ALWAYS cited in \n",
    "# research studies in order to normalize for total work when comparing different training methodologies\n",
    "# If Fitbod ever did A/B testing to see which internal prescription methology worked best this would be a VERY important\n",
    "# variable to keep consistent between groups\n",
    "\n",
    "squat_df['totalReps'] = squat_df['reps']*squat_df['setNumber']\n",
    "bench_df['totalReps'] = bench_df['reps']*bench_df['setNumber']\n",
    "squat_df['trainingVolume'] = squat_df['totalReps']*squat_df['weight']\n",
    "bench_df['trainingVolume'] = bench_df['totalReps']*bench_df['weight']\n"
   ]
  },
  {
   "cell_type": "code",
   "execution_count": 105,
   "metadata": {},
   "outputs": [
    {
     "data": {
      "text/plain": [
       "<matplotlib.collections.PathCollection at 0x1a1994e110>"
      ]
     },
     "execution_count": 105,
     "metadata": {},
     "output_type": "execute_result"
    },
    {
     "data": {
      "image/png": "[encoded data removed]",
      "text/plain": [
       "<Figure size 432x288 with 1 Axes>"
      ]
     },
     "metadata": {
      "needs_background": "light"
     },
     "output_type": "display_data"
    }
   ],
   "source": [
    "# Identification of variables to consideration in random forest analyses for training volume classification\n",
    "plt.xlabel('weight')\n",
    "plt.ylabel('trainingVolume')\n",
    "plt.title('Bench Weight by Training Volume')\n",
    "plt.scatter(bench_df.weight,bench_df.trainingVolume)\n",
    "# Distribution is linear "
   ]
  },
  {
   "cell_type": "code",
   "execution_count": 96,
   "metadata": {},
   "outputs": [
    {
     "data": {
      "text/plain": [
       "LinearRegression(copy_X=True, fit_intercept=True, n_jobs=None, normalize=False)"
      ]
     },
     "execution_count": 96,
     "metadata": {},
     "output_type": "execute_result"
    }
   ],
   "source": [
    "# performing linear regression on each variable (I only did one for brevity)\n",
    "reg = linear_model.LinearRegression()\n",
    "reg.fit(bench_df[['weight']],bench_df.trainingVolume)"
   ]
  },
  {
   "cell_type": "code",
   "execution_count": 111,
   "metadata": {},
   "outputs": [
    {
     "data": {
      "text/plain": [
       "array([15.84125157])"
      ]
     },
     "execution_count": 111,
     "metadata": {},
     "output_type": "execute_result"
    }
   ],
   "source": [
    "# slope\n",
    "reg.coef_\n"
   ]
  },
  {
   "cell_type": "code",
   "execution_count": 98,
   "metadata": {},
   "outputs": [
    {
     "data": {
      "text/plain": [
       "339.82071682181004"
      ]
     },
     "execution_count": 98,
     "metadata": {},
     "output_type": "execute_result"
    }
   ],
   "source": [
    "# y int\n",
    "reg.intercept_"
   ]
  },
  {
   "cell_type": "code",
   "execution_count": 112,
   "metadata": {},
   "outputs": [
    {
     "data": {
      "text/plain": [
       "0.32718151392203887"
      ]
     },
     "execution_count": 112,
     "metadata": {},
     "output_type": "execute_result"
    }
   ],
   "source": [
    "# 33% of variance in training volume can be explained by weight... since training volume is weight * total reps that \n",
    "# multiple regression would have an R squared of 1\n",
    "reg.score(bench_df[['weight']],bench_df.trainingVolume)"
   ]
  },
  {
   "cell_type": "code",
   "execution_count": 116,
   "metadata": {
    "collapsed": true
   },
   "outputs": [
    {
     "data": {
      "text/plain": [
       "LinearRegression(copy_X=True, fit_intercept=True, n_jobs=None, normalize=False)"
      ]
     },
     "execution_count": 116,
     "metadata": {},
     "output_type": "execute_result"
    }
   ],
   "source": [
    "# Adding all variables that I think may be associated with training volume to multiple regression prior to random\n",
    "# forest\n",
    "reg2 = linear_model.LinearRegression()\n",
    "reg2.fit(bench_df[['weight','totalReps']],bench_df.trainingVolume)"
   ]
  },
  {
   "cell_type": "code",
   "execution_count": 117,
   "metadata": {},
   "outputs": [
    {
     "data": {
      "text/plain": [
       "array([15.13564579, 61.88721596])"
      ]
     },
     "execution_count": 117,
     "metadata": {},
     "output_type": "execute_result"
    }
   ],
   "source": [
    "# multiple linear regression slopes\n",
    "reg2.coef_"
   ]
  },
  {
   "cell_type": "code",
   "execution_count": 118,
   "metadata": {},
   "outputs": [
    {
     "data": {
      "text/plain": [
       "-888.1603398495217"
      ]
     },
     "execution_count": 118,
     "metadata": {},
     "output_type": "execute_result"
    }
   ],
   "source": [
    "# multiple linear regression y int\n",
    "reg2.intercept_"
   ]
  },
  {
   "cell_type": "code",
   "execution_count": 124,
   "metadata": {},
   "outputs": [
    {
     "data": {
      "text/plain": [
       "0.9043672799141746"
      ]
     },
     "execution_count": 124,
     "metadata": {},
     "output_type": "execute_result"
    }
   ],
   "source": [
    "# R squared = .90 thought it would be closer to 1.0... I need to read into sklearn to see what R2 correction they use\n",
    "reg2.score(bench_df[['weight','totalReps']],bench_df.trainingVolume)"
   ]
  },
  {
   "cell_type": "code",
   "execution_count": null,
   "metadata": {},
   "outputs": [],
   "source": [
    "# These correlations suggest that weight and total reps are valuable variables to include in a random forests model \n",
    "# for the classification of trainingVolume\n",
    "# I didn't perform this analysis due to time constraints and the fact that I've never run one. That said, I read a lot\n",
    "# of Medium articles and watch a lot of youtube data science videos... If I flipped through the sklearn documentation\n",
    "# I could quickly figure it out and start building my own models..."
   ]
  }
 ],
 "metadata": {
  "kernelspec": {
   "display_name": "Python [conda env:fitbodhw]",
   "language": "python",
   "name": "conda-env-fitbodhw-py"
  },
  "language_info": {
   "codemirror_mode": {
    "name": "ipython",
    "version": 3
   },
   "file_extension": ".py",
   "mimetype": "text/x-python",
   "name": "python",
   "nbconvert_exporter": "python",
   "pygments_lexer": "ipython3",
   "version": "3.7.4"
  }
 },
 "nbformat": 4,
 "nbformat_minor": 2
}
